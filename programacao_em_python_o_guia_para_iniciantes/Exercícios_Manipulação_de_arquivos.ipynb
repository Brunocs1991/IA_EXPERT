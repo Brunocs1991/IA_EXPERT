{
  "nbformat": 4,
  "nbformat_minor": 0,
  "metadata": {
    "colab": {
      "provenance": [],
      "toc_visible": true
    },
    "kernelspec": {
      "name": "python3",
      "display_name": "Python 3"
    }
  },
  "cells": [
    {
      "cell_type": "markdown",
      "metadata": {
        "id": "2mwCD5b1rYff"
      },
      "source": [
        "# Exercício\n",
        "\n",
        "Considerando o dicionário com o nome dos alunos e suas respectivas notas, crie uma estrutura de repetição para percorrer cada elemento do dicionário para gravar cada aluno em um novo arquivo de texto\n",
        "- Cada aluno deve ocupar uma linha do novo arquivo de texto\n",
        "- O formato deve ser: nome,nota (Pedro,8.0)\n",
        "- Após a criação do arquivo de texto, faça a leitura do arquivo e mostre todos os alunos"
      ]
    },
    {
      "cell_type": "code",
      "metadata": {
        "id": "i9Uj6S7183lN",
        "colab": {
          "base_uri": "https://localhost:8080/",
          "height": 34
        },
        "outputId": "40ef5513-edd6-4517-dc2e-1f87a28e9d5a"
      },
      "source": [
        "alunos = {'Pedro': 8.0, 'Maria': 10.0, 'Amilton': 7.5}\n",
        "alunos"
      ],
      "execution_count": null,
      "outputs": [
        {
          "output_type": "execute_result",
          "data": {
            "text/plain": [
              "{'Amilton': 7.5, 'Maria': 10.0, 'Pedro': 8.0}"
            ]
          },
          "metadata": {
            "tags": []
          },
          "execution_count": 1
        }
      ]
    },
    {
      "cell_type": "code",
      "metadata": {
        "id": "WYkVdNHh9QH1"
      },
      "source": [
        "with open('alunos.txt', 'w') as arquivo:\n",
        "  for aluno, nota in alunos.items():\n",
        "    arquivo.write(f'{aluno},{nota}\\n')"
      ],
      "execution_count": null,
      "outputs": []
    },
    {
      "cell_type": "code",
      "metadata": {
        "id": "NdKoO4PoPvzP",
        "colab": {
          "base_uri": "https://localhost:8080/",
          "height": 118
        },
        "outputId": "843ffb1f-82ce-463d-dfb9-93f95e87f0d1"
      },
      "source": [
        "with open('alunos.txt', 'r') as arquivo:\n",
        "  for linha in arquivo:\n",
        "    print(linha)"
      ],
      "execution_count": null,
      "outputs": [
        {
          "output_type": "stream",
          "text": [
            "Pedro,8.0\n",
            "\n",
            "Maria,10.0\n",
            "\n",
            "Amilton,7.5\n",
            "\n"
          ],
          "name": "stdout"
        }
      ]
    }
  ]
}