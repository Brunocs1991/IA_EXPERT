{
 "cells": [
  {
   "cell_type": "markdown",
   "metadata": {
    "id": "V8QjcFa6R5y2"
   },
   "source": [
    "# Manipulação de variáveis e constantes"
   ]
  },
  {
   "cell_type": "markdown",
   "metadata": {
    "id": "vpSo8ozVTLCo"
   },
   "source": [
    "## Variáveis e constantes\n",
    "\n",
    "- Por meio de variáveis que um algortimo “guarda” os dados do problema\n",
    "- Todo dado que tem a possibilidade de ser alterado no decorrer do tempo deverá ser tratado como uma variável\n",
    "- Quando um dado não tem nenhuma possibilidade de variar no decorrer do tempo, deverá ser tratado como constante\n",
    "\n",
    "Exemplo: calcular a área de um triângulo. Sabemos que a fórmula para o cálculo da área de um triângulo é BASE * ALTURA / 2. **Base** e **altura** são dados que irão variar no decorrer do “tempo de execução”. O número 2 da fórmula é um dado constante, pois sempre terá o mesmo valor\n",
    "\n",
    "## Tipo de variáveis\n",
    "\n",
    "- Inteiros: valores positivos ou negativos, que não possuem uma parte fracionária. Exemplos: 1, 30, 40, 12, -50\n",
    "- Float (real): valores positivos ou negativos, que podem possuir uma parte fracionária (também podem ser inteiros). Exemplos: 1.4, 6.7, 10.3, 100, -47\n",
    "- Caracteres (char ou string): qualquer elemento presente no teclado. Exemplos: “Maria”, “João”, ‘M’, ‘F’\n",
    "- Lógico (boleano): verdadeiro ou falso. Exemplos: true, false, 1, 0"
   ]
  },
  {
   "cell_type": "markdown",
   "metadata": {
    "id": "dJuQ83faR_Pc"
   },
   "source": [
    "## Variáveis inteiras"
   ]
  },
  {
   "cell_type": "code",
   "execution_count": 1,
   "metadata": {
    "id": "AlNS5Ngsm_dB"
   },
   "outputs": [],
   "source": [
    "numero = -3\n",
    "numero_jogos = 14\n",
    "numero_convidados = 15"
   ]
  },
  {
   "cell_type": "code",
   "execution_count": 2,
   "metadata": {
    "colab": {
     "base_uri": "https://localhost:8080/",
     "height": 34
    },
    "executionInfo": {
     "elapsed": 799,
     "status": "ok",
     "timestamp": 1593711588290,
     "user": {
      "displayName": "Jones Granatyr",
      "photoUrl": "https://lh3.googleusercontent.com/a-/AOh14Gj-HFBSchv13C5VeiDZcZd2tVCvD_pOSKexaPmQ=s64",
      "userId": "10042675233362078631"
     },
     "user_tz": 180
    },
    "id": "h11ASYEknOD1",
    "outputId": "09ccff4b-8abc-4412-e838-c1bfbd4ed70e"
   },
   "outputs": [
    {
     "data": {
      "text/plain": [
       "-3"
      ]
     },
     "execution_count": 2,
     "metadata": {},
     "output_type": "execute_result"
    }
   ],
   "source": [
    "numero"
   ]
  },
  {
   "cell_type": "code",
   "execution_count": 3,
   "metadata": {
    "colab": {
     "base_uri": "https://localhost:8080/",
     "height": 34
    },
    "executionInfo": {
     "elapsed": 1141,
     "status": "ok",
     "timestamp": 1593711599819,
     "user": {
      "displayName": "Jones Granatyr",
      "photoUrl": "https://lh3.googleusercontent.com/a-/AOh14Gj-HFBSchv13C5VeiDZcZd2tVCvD_pOSKexaPmQ=s64",
      "userId": "10042675233362078631"
     },
     "user_tz": 180
    },
    "id": "c8kmjtIinQNi",
    "outputId": "8492b50a-aa97-4e8f-d716-cfb81c7cef6c"
   },
   "outputs": [
    {
     "name": "stdout",
     "output_type": "stream",
     "text": [
      "-3\n"
     ]
    }
   ],
   "source": [
    "print(numero)"
   ]
  },
  {
   "cell_type": "code",
   "execution_count": 4,
   "metadata": {
    "colab": {
     "base_uri": "https://localhost:8080/",
     "height": 34
    },
    "executionInfo": {
     "elapsed": 883,
     "status": "ok",
     "timestamp": 1593711637187,
     "user": {
      "displayName": "Jones Granatyr",
      "photoUrl": "https://lh3.googleusercontent.com/a-/AOh14Gj-HFBSchv13C5VeiDZcZd2tVCvD_pOSKexaPmQ=s64",
      "userId": "10042675233362078631"
     },
     "user_tz": 180
    },
    "id": "KP0Wt0yynY7b",
    "outputId": "485cae45-969d-48a3-f4e8-86be9db7c1e7"
   },
   "outputs": [
    {
     "name": "stdout",
     "output_type": "stream",
     "text": [
      "-3 15\n"
     ]
    }
   ],
   "source": [
    "print(numero, numero_convidados)"
   ]
  },
  {
   "cell_type": "markdown",
   "metadata": {
    "id": "JhCsz7fBSQ8E"
   },
   "source": [
    "## Variáveis float (ponto flutuante)"
   ]
  },
  {
   "cell_type": "code",
   "execution_count": 5,
   "metadata": {
    "id": "wNQq80punev_"
   },
   "outputs": [],
   "source": [
    "pi = 3.14\n",
    "numero_euler = 2.71\n",
    "escala_terremoto = -4.55"
   ]
  },
  {
   "cell_type": "code",
   "execution_count": 6,
   "metadata": {
    "colab": {
     "base_uri": "https://localhost:8080/",
     "height": 67
    },
    "executionInfo": {
     "elapsed": 791,
     "status": "ok",
     "timestamp": 1593711698222,
     "user": {
      "displayName": "Jones Granatyr",
      "photoUrl": "https://lh3.googleusercontent.com/a-/AOh14Gj-HFBSchv13C5VeiDZcZd2tVCvD_pOSKexaPmQ=s64",
      "userId": "10042675233362078631"
     },
     "user_tz": 180
    },
    "id": "yusfNXQ2nmCv",
    "outputId": "99da22fc-eb8c-4e13-a8ee-7e1f2d699130"
   },
   "outputs": [
    {
     "name": "stdout",
     "output_type": "stream",
     "text": [
      "3.14\n",
      "2.71\n",
      "-4.55\n"
     ]
    }
   ],
   "source": [
    "print(pi)\n",
    "print(numero_euler)\n",
    "print(escala_terremoto)"
   ]
  },
  {
   "cell_type": "markdown",
   "metadata": {
    "id": "fCiZKeOFSwig"
   },
   "source": [
    "## Strings e chars"
   ]
  },
  {
   "cell_type": "code",
   "execution_count": 7,
   "metadata": {
    "id": "yvccp63ZnvEZ"
   },
   "outputs": [],
   "source": [
    "letra = 'a'\n",
    "palavra1 = 'linguagem de programação'\n",
    "palavra2 = 'Python'"
   ]
  },
  {
   "cell_type": "code",
   "execution_count": 8,
   "metadata": {
    "colab": {
     "base_uri": "https://localhost:8080/",
     "height": 34
    },
    "executionInfo": {
     "elapsed": 846,
     "status": "ok",
     "timestamp": 1593711763551,
     "user": {
      "displayName": "Jones Granatyr",
      "photoUrl": "https://lh3.googleusercontent.com/a-/AOh14Gj-HFBSchv13C5VeiDZcZd2tVCvD_pOSKexaPmQ=s64",
      "userId": "10042675233362078631"
     },
     "user_tz": 180
    },
    "id": "AwZul8K-n3L-",
    "outputId": "dbb0fd0e-d82e-493a-91b7-0bab8f344335"
   },
   "outputs": [
    {
     "name": "stdout",
     "output_type": "stream",
     "text": [
      "a linguagem de programação\n"
     ]
    }
   ],
   "source": [
    "print(letra, palavra1)"
   ]
  },
  {
   "cell_type": "code",
   "execution_count": 9,
   "metadata": {
    "colab": {
     "base_uri": "https://localhost:8080/",
     "height": 34
    },
    "executionInfo": {
     "elapsed": 794,
     "status": "ok",
     "timestamp": 1593711796985,
     "user": {
      "displayName": "Jones Granatyr",
      "photoUrl": "https://lh3.googleusercontent.com/a-/AOh14Gj-HFBSchv13C5VeiDZcZd2tVCvD_pOSKexaPmQ=s64",
      "userId": "10042675233362078631"
     },
     "user_tz": 180
    },
    "id": "DnEKLamYn7Vw",
    "outputId": "f64e92ce-b909-4bbf-9439-ecf5b7215768"
   },
   "outputs": [
    {
     "name": "stdout",
     "output_type": "stream",
     "text": [
      "Estou aprendendo uma linguagem de programação\n"
     ]
    }
   ],
   "source": [
    "print('Estou aprendendo uma', palavra1)"
   ]
  },
  {
   "cell_type": "code",
   "execution_count": 10,
   "metadata": {
    "colab": {
     "base_uri": "https://localhost:8080/",
     "height": 34
    },
    "executionInfo": {
     "elapsed": 710,
     "status": "ok",
     "timestamp": 1593711834881,
     "user": {
      "displayName": "Jones Granatyr",
      "photoUrl": "https://lh3.googleusercontent.com/a-/AOh14Gj-HFBSchv13C5VeiDZcZd2tVCvD_pOSKexaPmQ=s64",
      "userId": "10042675233362078631"
     },
     "user_tz": 180
    },
    "id": "07uhcWXEoGHs",
    "outputId": "35a9e0b5-4fa0-4f7b-abeb-5c29c8c12c69"
   },
   "outputs": [
    {
     "name": "stdout",
     "output_type": "stream",
     "text": [
      "Esta linguagem de programação se chama Python\n"
     ]
    }
   ],
   "source": [
    "print('Esta', palavra1, 'se chama', palavra2)"
   ]
  },
  {
   "cell_type": "code",
   "execution_count": 11,
   "metadata": {
    "colab": {
     "base_uri": "https://localhost:8080/",
     "height": 50
    },
    "executionInfo": {
     "elapsed": 3455,
     "status": "ok",
     "timestamp": 1593712063426,
     "user": {
      "displayName": "Jones Granatyr",
      "photoUrl": "https://lh3.googleusercontent.com/a-/AOh14Gj-HFBSchv13C5VeiDZcZd2tVCvD_pOSKexaPmQ=s64",
      "userId": "10042675233362078631"
     },
     "user_tz": 180
    },
    "id": "QbO7XNY3oQKk",
    "outputId": "efaf6847-684f-4aa7-f9d3-482e65202fda"
   },
   "outputs": [
    {
     "name": "stdout",
     "output_type": "stream",
     "text": [
      "Digite sua idade:10\n",
      "Sua idade é  10\n"
     ]
    }
   ],
   "source": [
    "idade = int(input('Digite sua idade:'))\n",
    "print('Sua idade é ', idade)"
   ]
  },
  {
   "cell_type": "code",
   "execution_count": 12,
   "metadata": {
    "colab": {
     "base_uri": "https://localhost:8080/",
     "height": 50
    },
    "executionInfo": {
     "elapsed": 6263,
     "status": "ok",
     "timestamp": 1593712100275,
     "user": {
      "displayName": "Jones Granatyr",
      "photoUrl": "https://lh3.googleusercontent.com/a-/AOh14Gj-HFBSchv13C5VeiDZcZd2tVCvD_pOSKexaPmQ=s64",
      "userId": "10042675233362078631"
     },
     "user_tz": 180
    },
    "id": "4Bmhcm_sogXZ",
    "outputId": "63336622-46d6-4314-adbd-4b0c709ba4a7"
   },
   "outputs": [
    {
     "name": "stdout",
     "output_type": "stream",
     "text": [
      "Qual o pH do solo durante a última medição?10\n",
      "O pH medido foi  10.0\n"
     ]
    }
   ],
   "source": [
    "pH = float(input('Qual o pH do solo durante a última medição?'))\n",
    "print('O pH medido foi ', pH)"
   ]
  },
  {
   "cell_type": "code",
   "execution_count": 13,
   "metadata": {
    "colab": {
     "base_uri": "https://localhost:8080/",
     "height": 50
    },
    "executionInfo": {
     "elapsed": 3465,
     "status": "ok",
     "timestamp": 1593712116634,
     "user": {
      "displayName": "Jones Granatyr",
      "photoUrl": "https://lh3.googleusercontent.com/a-/AOh14Gj-HFBSchv13C5VeiDZcZd2tVCvD_pOSKexaPmQ=s64",
      "userId": "10042675233362078631"
     },
     "user_tz": 180
    },
    "id": "TWKEPsOHosFh",
    "outputId": "6b8e6a6c-6626-4624-8ca5-ddcaacca1d59"
   },
   "outputs": [
    {
     "name": "stdout",
     "output_type": "stream",
     "text": [
      "Qual o seu nome?bruno\n",
      "Seu nome é bruno\n"
     ]
    }
   ],
   "source": [
    "nome = str(input('Qual o seu nome?'))\n",
    "print('Seu nome é', nome)"
   ]
  },
  {
   "cell_type": "code",
   "execution_count": 14,
   "metadata": {
    "colab": {
     "base_uri": "https://localhost:8080/",
     "height": 34
    },
    "executionInfo": {
     "elapsed": 910,
     "status": "ok",
     "timestamp": 1593712070447,
     "user": {
      "displayName": "Jones Granatyr",
      "photoUrl": "https://lh3.googleusercontent.com/a-/AOh14Gj-HFBSchv13C5VeiDZcZd2tVCvD_pOSKexaPmQ=s64",
      "userId": "10042675233362078631"
     },
     "user_tz": 180
    },
    "id": "WS0kaS_jo5c2",
    "outputId": "705e3741-49c4-419f-9579-159f74f0cd87"
   },
   "outputs": [
    {
     "data": {
      "text/plain": [
       "10"
      ]
     },
     "execution_count": 14,
     "metadata": {},
     "output_type": "execute_result"
    }
   ],
   "source": [
    "idade"
   ]
  }
 ],
 "metadata": {
  "colab": {
   "provenance": [
    {
     "file_id": "1zHkg0u422FxA96zsOwEVcSf8X6GtEQ7G",
     "timestamp": 1681775691096
    },
    {
     "file_id": "1OcPF5e6sjgKVEQPGzL19A71ssota1w4_",
     "timestamp": 1593711227103
    },
    {
     "file_id": "1J7k-5VrHoAles48PYMnZIbiMJz5pQID3",
     "timestamp": 1593622099885
    }
   ]
  },
  "kernelspec": {
   "display_name": "Python 3 (ipykernel)",
   "language": "python",
   "name": "python3"
  },
  "language_info": {
   "codemirror_mode": {
    "name": "ipython",
    "version": 3
   },
   "file_extension": ".py",
   "mimetype": "text/x-python",
   "name": "python",
   "nbconvert_exporter": "python",
   "pygments_lexer": "ipython3",
   "version": "3.10.9"
  }
 },
 "nbformat": 4,
 "nbformat_minor": 1
}
