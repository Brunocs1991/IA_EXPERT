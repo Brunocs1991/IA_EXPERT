{
  "nbformat": 4,
  "nbformat_minor": 0,
  "metadata": {
    "colab": {
      "provenance": []
    },
    "kernelspec": {
      "name": "python3",
      "display_name": "Python 3"
    }
  },
  "cells": [
    {
      "cell_type": "markdown",
      "metadata": {
        "id": "c9BudZ2gNE2n"
      },
      "source": [
        "# Exercício 1\n",
        "\n",
        "Crie um arquivo .py com duas funções\n",
        "- Função para ler um string (recebe como parâmetro uma mensagem e retorna o que o usuário digitou)\n",
        "- Função para ler um número float (recebe como parâmetro uma mensagem e retorna o que o usuário digitou)\n",
        "\n",
        "Importar o arquivo criado no Google Colab e testar as funções\n"
      ]
    },
    {
      "cell_type": "code",
      "metadata": {
        "id": "NEm6HrOF4Z8o"
      },
      "source": [
        "import leitura as lt"
      ],
      "execution_count": null,
      "outputs": []
    },
    {
      "cell_type": "code",
      "metadata": {
        "id": "g0AdARMH4pJB",
        "colab": {
          "base_uri": "https://localhost:8080/",
          "height": 50
        },
        "outputId": "65c27154-7582-409a-9f75-6d2f2e61fdcd"
      },
      "source": [
        "texto = lt.ler_string('Digite o seu nome: ')\n",
        "print(texto)"
      ],
      "execution_count": null,
      "outputs": [
        {
          "output_type": "stream",
          "text": [
            "Digite o seu nome: Jones\n",
            "Jones\n"
          ],
          "name": "stdout"
        }
      ]
    },
    {
      "cell_type": "code",
      "metadata": {
        "id": "e8akkYfCfjv9",
        "colab": {
          "base_uri": "https://localhost:8080/",
          "height": 50
        },
        "outputId": "dd9bfee1-d991-493e-dcc9-cdc63f54a644"
      },
      "source": [
        "carro = lt.ler_string('Digite o nome do seu carro: ')\n",
        "print(carro)"
      ],
      "execution_count": null,
      "outputs": [
        {
          "output_type": "stream",
          "text": [
            "Digite o nome do seu carro: gol\n",
            "gol\n"
          ],
          "name": "stdout"
        }
      ]
    },
    {
      "cell_type": "code",
      "metadata": {
        "id": "dwJtaa154x2q",
        "colab": {
          "base_uri": "https://localhost:8080/",
          "height": 50
        },
        "outputId": "fc87501c-3780-49bb-bb65-596df4593538"
      },
      "source": [
        "numero = lt.ler_float('Digite o valor 1: ')\n",
        "print(numero)"
      ],
      "execution_count": null,
      "outputs": [
        {
          "output_type": "stream",
          "text": [
            "Digite o valor 1: 9.4\n",
            "9.4\n"
          ],
          "name": "stdout"
        }
      ]
    },
    {
      "cell_type": "code",
      "metadata": {
        "id": "zy6SDrUOf7Js",
        "colab": {
          "base_uri": "https://localhost:8080/",
          "height": 50
        },
        "outputId": "a215468f-d6bd-4ca8-f78a-51addbf4a2d6"
      },
      "source": [
        "numero2 = lt.ler_float('Digite o valor 2: ')\n",
        "print(numero2)"
      ],
      "execution_count": null,
      "outputs": [
        {
          "output_type": "stream",
          "text": [
            "Digite o valor 2: 6\n",
            "6.0\n"
          ],
          "name": "stdout"
        }
      ]
    }
  ]
}