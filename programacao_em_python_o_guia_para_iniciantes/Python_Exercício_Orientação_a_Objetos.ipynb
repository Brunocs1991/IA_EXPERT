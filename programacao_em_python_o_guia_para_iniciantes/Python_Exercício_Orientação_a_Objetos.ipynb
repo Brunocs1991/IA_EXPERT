{
  "nbformat": 4,
  "nbformat_minor": 0,
  "metadata": {
    "colab": {
      "provenance": []
    },
    "kernelspec": {
      "name": "python3",
      "display_name": "Python 3"
    }
  },
  "cells": [
    {
      "cell_type": "markdown",
      "metadata": {
        "id": "c9BudZ2gNE2n"
      },
      "source": [
        "# Exercício 1\n",
        "\n",
        "Crie uma classe chamada aluno com os seguintes atributos:\n",
        "\n",
        "- Nome\n",
        "- Nota 1\n",
        "- Nota 2\n",
        "- Crie um construtor para a classe (__init__)\n",
        "\n",
        "Crie as seguintes funções (métodos):\n",
        "\n",
        "- Calcula média, retornando a média aritmética entre as notas\n",
        "- Mostra dados, que somente imprime o valor de todos os atributos\n",
        "- Resultado, que verifica se o aluno está aprovado ou reprovado (se a média for maior ou igual a 6.0, o aluno está aprovado)\n",
        "\n",
        "Crie dois objetos (aluno1 e aluno2) e teste as funções"
      ]
    },
    {
      "cell_type": "code",
      "metadata": {
        "id": "iYgw0XGvM0Xz"
      },
      "source": [
        "class Aluno:\n",
        "  def __init__(self, nome, nota1, nota2):\n",
        "    self.nome = nome\n",
        "    self.nota1 = nota1\n",
        "    self.nota2 = nota2\n",
        "    self.media = 0.0\n",
        "   \n",
        "  def calcula_media(self):\n",
        "    self.media = (self.nota1 + self.nota2) / 2\n",
        "    return self.media\n",
        "\n",
        "  def mostra_dados(self):\n",
        "    print('Nome: ', self.nome)\n",
        "    print('Nota 1:', self.nota1)\n",
        "    print('Nota 2:', self.nota2)\n",
        "    print('Média:', self.media)\n",
        "  \n",
        "  def resultado(self):\n",
        "    if self.media >= 6.0:\n",
        "      print('Aprovado')\n",
        "    else:\n",
        "      print('Reprovado')"
      ],
      "execution_count": null,
      "outputs": []
    },
    {
      "cell_type": "code",
      "metadata": {
        "id": "SgoLAF2olPjT",
        "colab": {
          "base_uri": "https://localhost:8080/",
          "height": 34
        },
        "outputId": "322a0c0c-f838-4350-e55f-c22f55fe5df0"
      },
      "source": [
        "aluno1 = Aluno('Pedro', 7.0, 9.0)\n",
        "media = aluno1.calcula_media()\n",
        "print(media)"
      ],
      "execution_count": null,
      "outputs": [
        {
          "output_type": "stream",
          "text": [
            "8.0\n"
          ],
          "name": "stdout"
        }
      ]
    },
    {
      "cell_type": "code",
      "metadata": {
        "id": "tyhDR5YylcQN",
        "colab": {
          "base_uri": "https://localhost:8080/",
          "height": 84
        },
        "outputId": "feab521f-a97a-4cb9-a6ad-31ef8539b9ee"
      },
      "source": [
        "aluno1.mostra_dados()"
      ],
      "execution_count": null,
      "outputs": [
        {
          "output_type": "stream",
          "text": [
            "Nome:  Pedro\n",
            "Nota 1: 7.0\n",
            "Nota 2: 9.0\n",
            "Média: 8.0\n"
          ],
          "name": "stdout"
        }
      ]
    },
    {
      "cell_type": "code",
      "metadata": {
        "id": "qmVKMNZ_lfY8",
        "colab": {
          "base_uri": "https://localhost:8080/",
          "height": 34
        },
        "outputId": "e6aed9e7-db6b-4aa1-d501-a9918d0d555a"
      },
      "source": [
        "aluno1.resultado()"
      ],
      "execution_count": null,
      "outputs": [
        {
          "output_type": "stream",
          "text": [
            "Aprovado\n"
          ],
          "name": "stdout"
        }
      ]
    },
    {
      "cell_type": "code",
      "metadata": {
        "id": "-8S0WXQ8liYa",
        "colab": {
          "base_uri": "https://localhost:8080/",
          "height": 101
        },
        "outputId": "fab574c7-21b1-467f-b6c8-7ea1daa99b55"
      },
      "source": [
        "aluno2 = Aluno('João', 7.0, 2.0)\n",
        "media = aluno2.calcula_media()\n",
        "aluno2.mostra_dados()\n",
        "aluno2.resultado()"
      ],
      "execution_count": null,
      "outputs": [
        {
          "output_type": "stream",
          "text": [
            "Nome:  João\n",
            "Nota 1: 7.0\n",
            "Nota 2: 2.0\n",
            "Média: 4.5\n",
            "Reprovado\n"
          ],
          "name": "stdout"
        }
      ]
    }
  ]
}