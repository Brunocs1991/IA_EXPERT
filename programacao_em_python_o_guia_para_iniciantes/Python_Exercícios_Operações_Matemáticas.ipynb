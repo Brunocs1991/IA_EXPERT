{
  "nbformat": 4,
  "nbformat_minor": 0,
  "metadata": {
    "colab": {
      "provenance": []
    },
    "kernelspec": {
      "name": "python3",
      "display_name": "Python 3"
    }
  },
  "cells": [
    {
      "cell_type": "markdown",
      "metadata": {
        "id": "c9BudZ2gNE2n"
      },
      "source": [
        "# Exercício 1\n",
        "\n",
        "Ler dois números inteiros, executar e mostrar o resultado das seguintes operações: adição, subtração, multiplicação e divisão\n"
      ]
    },
    {
      "cell_type": "code",
      "metadata": {
        "id": "iYgw0XGvM0Xz",
        "colab": {
          "base_uri": "https://localhost:8080/",
          "height": 50
        },
        "outputId": "be50b458-f3d1-4ce4-fdc5-b664ac98f4a7"
      },
      "source": [
        "numero1 = int(input('Digite o primeiro número: '))\n",
        "numero2 = int(input('Digite o segundo número: '))"
      ],
      "execution_count": null,
      "outputs": [
        {
          "output_type": "stream",
          "text": [
            "Digite o primeiro número: 5\n",
            "Digite o segundo número: 3\n"
          ],
          "name": "stdout"
        }
      ]
    },
    {
      "cell_type": "code",
      "metadata": {
        "id": "4iPC34bCkDUF",
        "colab": {
          "base_uri": "https://localhost:8080/",
          "height": 34
        },
        "outputId": "0d915457-890e-419a-dab2-9b16b2cb2af0"
      },
      "source": [
        "print(numero1, numero2)"
      ],
      "execution_count": null,
      "outputs": [
        {
          "output_type": "stream",
          "text": [
            "5 3\n"
          ],
          "name": "stdout"
        }
      ]
    },
    {
      "cell_type": "code",
      "metadata": {
        "id": "Dy_UFha_Nb8o"
      },
      "source": [
        "adicao = numero1 + numero2\n",
        "subtracao = numero1 - numero2\n",
        "multiplicacao = numero1 * numero2\n",
        "divisao = numero1 / numero2"
      ],
      "execution_count": null,
      "outputs": []
    },
    {
      "cell_type": "code",
      "metadata": {
        "id": "59F8tj9qNnuF",
        "colab": {
          "base_uri": "https://localhost:8080/",
          "height": 84
        },
        "outputId": "d82092a9-3b8e-4d02-8adb-93b0aa075ed1"
      },
      "source": [
        "print('Adição: ', adicao)\n",
        "print('Subtração: ', subtracao)\n",
        "print('Multiplicação: ', multiplicacao)\n",
        "print('Divisão: ', round(divisao, 2))"
      ],
      "execution_count": null,
      "outputs": [
        {
          "output_type": "stream",
          "text": [
            "Adição:  8\n",
            "Subtração:  2\n",
            "Multiplicação:  15\n",
            "Divisão:  1.67\n"
          ],
          "name": "stdout"
        }
      ]
    },
    {
      "cell_type": "markdown",
      "metadata": {
        "id": "QK3YAlgdN0t3"
      },
      "source": [
        "# Exercício 2\n",
        "\n",
        "Efetuar o cálculo da quantidade de litros de combustível gasto em uma viagem, utilizando um automóvel que faz 12 Km por litro. Para obter o cálculo, o usuário deve fornecer o tempo gasto na viagem e a velocidade média durante ela. Desta forma, será possível obter a distância percorrida com a fórmula DISTANCIA = TEMPO * VELOCIDADE. Tendo o valor da distância, basta calcular a quantidade de litros de combustível utilizada na viagem, com a fórmula: LITROS_USADOS = DISTANCIA / 12. O programa deve apresentar os valores da velocidade média, tempo gasto na viagem, a distância percorrida e a quantidade de litros utilizada na viagem"
      ]
    },
    {
      "cell_type": "code",
      "metadata": {
        "id": "FIz6i8_LOByQ",
        "colab": {
          "base_uri": "https://localhost:8080/",
          "height": 50
        },
        "outputId": "49ff91d1-77b7-4b93-dfe5-cbb3ab1a4a40"
      },
      "source": [
        "tempo = float(input('Digite o tempo gasto na viagem: '))\n",
        "velocidade = float(input('Digite a velocidade média: '))"
      ],
      "execution_count": null,
      "outputs": [
        {
          "output_type": "stream",
          "text": [
            "Digite o tempo gasto na viagem: 2\n",
            "Digite a velocidade média: 80\n"
          ],
          "name": "stdout"
        }
      ]
    },
    {
      "cell_type": "code",
      "metadata": {
        "id": "-GFuR-Vpkh6C",
        "colab": {
          "base_uri": "https://localhost:8080/",
          "height": 34
        },
        "outputId": "6d130c84-8e11-40ab-bcdd-64baf24af13d"
      },
      "source": [
        "print(tempo, velocidade)"
      ],
      "execution_count": null,
      "outputs": [
        {
          "output_type": "stream",
          "text": [
            "2.0 80.0\n"
          ],
          "name": "stdout"
        }
      ]
    },
    {
      "cell_type": "code",
      "metadata": {
        "id": "g1-4CUlMORsU"
      },
      "source": [
        "distancia = tempo * velocidade\n",
        "litros_usados = distancia / 12"
      ],
      "execution_count": null,
      "outputs": []
    },
    {
      "cell_type": "code",
      "metadata": {
        "id": "9uVrqKjhOcAV",
        "colab": {
          "base_uri": "https://localhost:8080/",
          "height": 84
        },
        "outputId": "d9daf573-5b93-40ae-8125-515221edee49"
      },
      "source": [
        "print('Velocidade média: ', velocidade)\n",
        "print('Tempo gasto na viagem: ', tempo)\n",
        "print('Distância percorrida:', distancia)\n",
        "print('Quantidade de litros:', round(litros_usados,1))"
      ],
      "execution_count": null,
      "outputs": [
        {
          "output_type": "stream",
          "text": [
            "Velocidade média:  80.0\n",
            "Tempo gasto na viagem:  2.0\n",
            "Distância percorrida: 160.0\n",
            "Quantidade de litros: 13.3\n"
          ],
          "name": "stdout"
        }
      ]
    }
  ]
}